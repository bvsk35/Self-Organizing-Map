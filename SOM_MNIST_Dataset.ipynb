{
 "cells": [
  {
   "cell_type": "markdown",
   "metadata": {},
   "source": [
    "#### Gist:\n",
    "Self Organizing Map for MNIST dataset. SOM network grid can be changed by changing the values in the SOM_Network_Shape variables. Raw data shape is fixed for this problem. Custom colour are used to represent the labels 0 to 9, colour vector is in RGB format (8 bit representation) but normalised to unit length (See vector Saturation_Norm). "
   ]
  },
  {
   "cell_type": "code",
   "execution_count": null,
   "metadata": {},
   "outputs": [],
   "source": [
    "# Import Required Libraries\n",
    "import numpy \n",
    "from matplotlib import pyplot as plt\n",
    "from copy import deepcopy\n",
    "from matplotlib import patches as patches\n",
    "from LoadData import load_images, load_labels\n",
    "from matplotlib.lines import Line2D"
   ]
  },
  {
   "cell_type": "code",
   "execution_count": null,
   "metadata": {},
   "outputs": [],
   "source": [
    "# Generate Data\n",
    "Raw_Data_Shape = numpy.array([60000, 784])\n",
    "SOM_Network_Shape = numpy.array([50, 50])\n",
    "Images = load_images('train-images-idx3-ubyte.gz')\n",
    "Labels_Train = load_labels('train-labels-idx1-ubyte.gz')\n",
    "Images_Norm = Images/numpy.linalg.norm(Images, axis=1).reshape(Raw_Data_Shape[0], 1)\n",
    "W_Initial_Guess = numpy.random.uniform(0, 1, (SOM_Network_Shape[0]*SOM_Network_Shape[1], Raw_Data_Shape[1]))\n",
    "W_Initial_Guess_Norm = W_Initial_Guess/numpy.linalg.norm(W_Initial_Guess, axis=1).reshape(SOM_Network_Shape[0]*SOM_Network_Shape[1], 1)\n",
    "Index = numpy.mgrid[0:SOM_Network_Shape[0],0:SOM_Network_Shape[1]].reshape(2, SOM_Network_Shape[0]*SOM_Network_Shape[1]).T"
   ]
  },
  {
   "cell_type": "code",
   "execution_count": null,
   "metadata": {},
   "outputs": [],
   "source": [
    "# Parameters \n",
    "Epoch = 0 \n",
    "Max_Epoch = 20000\n",
    "eta_0 = 0.1\n",
    "eta_time_const = 1000\n",
    "sigma_0 = numpy.max(SOM_Network_Shape) * 0.5\n",
    "sigma_time_const = 1000/numpy.log10(sigma_0)\n",
    "Saturation = numpy.array([[221, 65, 50], [107, 91, 149], [254, 132, 14], [103, 46, 159], [198, 33, 104], [255, 0, 0], \n",
    "                 [0, 110, 109], [0, 83, 156], [117, 81, 57], [191, 214, 65]])\n",
    "Saturation_Norm = Saturation/numpy.linalg.norm(Saturation, axis=1).reshape(10, 1)"
   ]
  },
  {
   "cell_type": "code",
   "execution_count": null,
   "metadata": {},
   "outputs": [],
   "source": [
    "# Required Functions\n",
    "def winning_neuron(x, W):\n",
    "    # Also called as Best Matching Neuron/Best Matching Unit (BMU)\n",
    "    return numpy.argmin(numpy.linalg.norm(x - W, axis=1))\n",
    "\n",
    "def update_weights(lr, var, x, W, Grid):\n",
    "    i = winning_neuron(x, W)\n",
    "    d = numpy.square(numpy.linalg.norm(Grid - Grid[i], axis=1))\n",
    "    # Topological Neighbourhood Function\n",
    "    h = numpy.exp(-d/(2 * var * var))\n",
    "    W = W + lr * h[:, numpy.newaxis] * (x - W)\n",
    "    return W\n",
    "\n",
    "def decay_learning_rate(eta_initial, epoch, time_const):\n",
    "    return eta_initial * numpy.exp(-epoch/time_const)\n",
    "\n",
    "def decay_variance(sigma_initial, epoch, time_const):\n",
    "    return sigma_initial * numpy.exp(-epoch/time_const)"
   ]
  },
  {
   "cell_type": "code",
   "execution_count": null,
   "metadata": {},
   "outputs": [],
   "source": [
    "# Main Loop\n",
    "W_new = deepcopy(W_Initial_Guess_Norm)\n",
    "eta = deepcopy(eta_0)\n",
    "sigma = deepcopy(sigma_0)\n",
    "while Epoch <= Max_Epoch:\n",
    "    # Update Weights\n",
    "    i = numpy.random.randint(0, Raw_Data_Shape[0])\n",
    "    W_new = update_weights(eta, sigma, Images_Norm[i], W_new, Index)\n",
    "    # Print\n",
    "#     print('Epoch: ', Epoch, ' Learning Rate: ', eta, ' Varinance: ', sigma, '\\n')\n",
    "    # Next...\n",
    "    eta = decay_learning_rate(eta_0, Epoch, eta_time_const)\n",
    "    sigma = decay_variance(sigma_0, Epoch, sigma_time_const)\n",
    "    Epoch += 1\n",
    "print('Optimal Weights Reached!!!')"
   ]
  },
  {
   "cell_type": "code",
   "execution_count": null,
   "metadata": {},
   "outputs": [],
   "source": [
    "# Test\n",
    "W_final = deepcopy(W_new)\n",
    "Colour = numpy.zeros((SOM_Network_Shape[0]*SOM_Network_Shape[1], 3))\n",
    "for i in range(0, Raw_Data_Shape[0]):\n",
    "    bmu = winning_neuron(Images_Norm[i], W_final)\n",
    "    Colour[bmu] = Saturation_Norm[Labels_Train[i]]\n",
    "\n",
    "Zero_Pos = numpy.where(~Colour.any(axis=1))[0] # numpy.where(Colour[:, 0] == 0)[0]\n",
    "for i in range(0, Zero_Pos.size):\n",
    "    temp = numpy.array([])\n",
    "    for j in range(0, Raw_Data_Shape[0]):\n",
    "        a = numpy.linalg.norm(Images_Norm[j] - W_final[Zero_Pos[i]])\n",
    "        temp = numpy.concatenate((temp, [a]), axis=0)\n",
    "    bmu = numpy.argmin(temp)\n",
    "    Colour[Zero_Pos[i]] = Saturation_Norm[Labels_Train[bmu]]"
   ]
  },
  {
   "cell_type": "code",
   "execution_count": null,
   "metadata": {},
   "outputs": [],
   "source": [
    "# Plot\n",
    "fig = plt.figure()\n",
    "# setup axes\n",
    "ax = fig.add_subplot(111, aspect='equal')\n",
    "ax.set_xlim((0, SOM_Network_Shape[0]))\n",
    "ax.set_ylim((0, SOM_Network_Shape[1]))\n",
    "ax.set_title('Self-Organising Map after %d iterations' % Max_Epoch)\n",
    "\n",
    "# plot the rectangles\n",
    "i = 0\n",
    "for x in range(0, SOM_Network_Shape[0]):\n",
    "    for y in range(0, SOM_Network_Shape[1]):\n",
    "        ax.add_patch(patches.Rectangle((x, y), 1, 1, facecolor=Colour[i], edgecolor='none'))\n",
    "        i += 1\n",
    "# Add legends\n",
    "legend_elements = [Line2D([0], [0], color=Saturation_Norm[0], lw=4, label='0'), \n",
    "                  Line2D([0], [0], color=Saturation_Norm[1], lw=4, label='1'),\n",
    "                  Line2D([0], [0], color=Saturation_Norm[2], lw=4, label='2'),\n",
    "                  Line2D([0], [0], color=Saturation_Norm[3], lw=4, label='3'),\n",
    "                  Line2D([0], [0], color=Saturation_Norm[4], lw=4, label='4'),\n",
    "                  Line2D([0], [0], color=Saturation_Norm[5], lw=4, label='5'),\n",
    "                  Line2D([0], [0], color=Saturation_Norm[6], lw=4, label='6'),\n",
    "                  Line2D([0], [0], color=Saturation_Norm[7], lw=4, label='7'),\n",
    "                  Line2D([0], [0], color=Saturation_Norm[8], lw=4, label='8'),\n",
    "                  Line2D([0], [0], color=Saturation_Norm[9], lw=4, label='9')]\n",
    "ax.legend(handles=legend_elements, loc='center left', bbox_to_anchor=(1, 0.5))\n",
    "plt.savefig('Self-Organising Map.pdf')\n",
    "plt.show()"
   ]
  }
 ],
 "metadata": {
  "kernelspec": {
   "display_name": "Python 3",
   "language": "python",
   "name": "python3"
  },
  "language_info": {
   "codemirror_mode": {
    "name": "ipython",
    "version": 3
   },
   "file_extension": ".py",
   "mimetype": "text/x-python",
   "name": "python",
   "nbconvert_exporter": "python",
   "pygments_lexer": "ipython3",
   "version": "3.7.0"
  }
 },
 "nbformat": 4,
 "nbformat_minor": 2
}
