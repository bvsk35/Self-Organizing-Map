{
 "cells": [
  {
   "cell_type": "markdown",
   "metadata": {},
   "source": [
    "#### Introduction\n",
    "Simple Colour paletter problem has been used to demostrate dimensional reduction using SOM. Here the input is 3D vector which has been compressed to 2D (generally SOM are used to compress to two or three dimensions). This is represented on the SOM grid using colours to each 3D input and associating with approriate neuron (which activates the neuron the most) on 2D grid. This should get clear by looking at the MNIST handwritten problem or Simon Haykin Neural Network textbook problem on SOM (contextual map)."
   ]
  },
  {
   "cell_type": "code",
   "execution_count": 9,
   "metadata": {},
   "outputs": [],
   "source": [
    "# Import Required Libraries\n",
    "import numpy \n",
    "from matplotlib import pyplot as plt\n",
    "from copy import deepcopy\n",
    "from matplotlib import patches as patches"
   ]
  },
  {
   "cell_type": "markdown",
   "metadata": {},
   "source": [
    "#### Data\n",
    "Generating color data. Which will be used for SOM. Raw data is represented by matrix $X$ which is 100x3 dimension, with each row representing RGB values. SOM Neural Network contains 2D 10x10 grid i.e. 100 neurons; weight matrix $W$ is 100x3 dimension and bias terms are zero. Also weight matirx must have  Matrix $Index$ of 100x2 dimension associates neurons with 2D 10x10 grid. Activation function is linear activation function. \n",
    "\n",
    "SOM network grid and Raw data shape can be changed by changing the values in the Raw_Data_Shape and SOM_Network_Shape variables. \n",
    "\n",
    "SOM trains very well when data is normalsied. Also, the best-matching criterion, based on maximizing the inner product $\\textbf{w}_{j}^{T}\\textbf{x}$ is mathematically equivalent to minimizing the Euclidean distance between the vectors $\\textbf{x}$ and $\\textbf{w}_{j}$, provided that $\\textbf{w}_{j}$ has unit length for all $j$. Hence normalise the raw data and initial guess weights to have unit lenght."
   ]
  },
  {
   "cell_type": "code",
   "execution_count": 10,
   "metadata": {},
   "outputs": [],
   "source": [
    "# Generate Data\n",
    "Raw_Data_Shape = numpy.array([100, 3])\n",
    "SOM_Network_Shape = numpy.array([20, 20])\n",
    "X = numpy.random.randint(0, 256, (Raw_Data_Shape[0], Raw_Data_Shape[1]))\n",
    "X_Norm = X/numpy.linalg.norm(X, axis=1).reshape(Raw_Data_Shape[0], 1)\n",
    "W_Initial_Guess = numpy.random.uniform(0, 1, (SOM_Network_Shape[0]*SOM_Network_Shape[1], Raw_Data_Shape[1]))\n",
    "W_Initial_Guess_Norm = W_Initial_Guess/numpy.linalg.norm(W_Initial_Guess, axis=1).reshape(SOM_Network_Shape[0]*SOM_Network_Shape[1], 1)\n",
    "Index = numpy.mgrid[0:SOM_Network_Shape[0],0:SOM_Network_Shape[1]].reshape(2, SOM_Network_Shape[0]*SOM_Network_Shape[1]).T"
   ]
  },
  {
   "cell_type": "markdown",
   "metadata": {},
   "source": [
    "#### Parameter Selection\n",
    "1 - Learning Rate: must not be allowed to decrease to zero otherwise, it is possible for the network to get stuck in a metastable state. A metastable state belongs to a configuration of the feature map with a topological defect.The exponential decay of learning rate guarantees against the possibility of metastable states. Learning Rate Decay:\n",
    "\\begin{align*}\n",
    "    \\eta(epochs) = \\eta_{0} \\exp\\left(\\frac{-epochs}{\\tau}\\right) \n",
    "\\end{align*}\n",
    "These desirable values are satisfied by the following choices in the formula $\\eta_{0}$ = 0.1 and $\\tau$ = 1000\n",
    "\n",
    "2 - Varinace of the Gaussian neighbourhood function: Assuming the use of a two-dimensional lattice of neurons for the discrete map, set the initial size $\\sigma_{0}$ of the neighborhood function equal to the “radius” of the lattice. Correspondingly, set the time constant $\\tau$ as $\\frac{1000}{log(\\sigma_{0})}$. Variance Decay:\n",
    "\\begin{align*}\n",
    "    \\sigma(epochs) = \\sigma_{0} \\exp\\left(\\frac{-epochs}{\\tau}\\right) \n",
    "\\end{align*}\n",
    "\n",
    "3 - Maximum Epochs: Adaptation of the synaptic weights in the SOM network can be decomposed into two phases ordering/self-ordering phase followed by a convergence phase. It is during this first phase of the adaptive process that the topological ordering of the weight vectors takes place. The ordering phase may take as many as 1,000 epochs of the SOM algorithm, and possibly even more. Second phase of the adaptive process is needed to finetune the feature map and therefore provide an accurate statistical quantification of the input space. Moreover, the number of iterations needed for convergence depends strongly on the dimensionality of the input space. As a general rule, the number of iterations constituting the convergence phase must be at least 500 times the number of neurons in the network. Thus, the convergence phase may have to go on for thousands, and possibly even tens of thousands, of iterations."
   ]
  },
  {
   "cell_type": "code",
   "execution_count": 11,
   "metadata": {},
   "outputs": [],
   "source": [
    "# Parameters \n",
    "Epoch = 0 \n",
    "Max_Epoch = 55000\n",
    "eta_0 = 0.1\n",
    "eta_time_const = 1000\n",
    "sigma_0 = numpy.max(SOM_Network_Shape) * 0.5\n",
    "sigma_time_const = 1000/numpy.log10(sigma_0)"
   ]
  },
  {
   "cell_type": "code",
   "execution_count": 12,
   "metadata": {},
   "outputs": [],
   "source": [
    "# Required Functions\n",
    "def winning_neuron(x, W):\n",
    "    # Also called as Best Matching Neuron/Best Matching Unit (BMU)\n",
    "    return numpy.argmin(numpy.linalg.norm(x - W, axis=1))\n",
    "\n",
    "def update_weights(lr, var, x, W, Grid):\n",
    "    i = winning_neuron(x, W)\n",
    "    d = numpy.square(numpy.linalg.norm(Grid - Grid[i], axis=1))\n",
    "    # Topological Neighbourhood Function\n",
    "    h = numpy.exp(-d/(2 * var * var))\n",
    "    W = W + lr * h[:, numpy.newaxis] * (x - W)\n",
    "    return W\n",
    "\n",
    "def decay_learning_rate(eta_initial, epoch, time_const):\n",
    "    return eta_initial * numpy.exp(-epoch/time_const)\n",
    "\n",
    "def decay_variance(sigma_initial, epoch, time_const):\n",
    "    return sigma_initial * numpy.exp(-epoch/time_const)"
   ]
  },
  {
   "cell_type": "code",
   "execution_count": 13,
   "metadata": {},
   "outputs": [
    {
     "name": "stdout",
     "output_type": "stream",
     "text": [
      "Optimal Weights Reached!!!\n"
     ]
    }
   ],
   "source": [
    "# Main Loop\n",
    "W_new = deepcopy(W_Initial_Guess_Norm)\n",
    "eta = deepcopy(eta_0)\n",
    "sigma = deepcopy(sigma_0)\n",
    "while Epoch <= Max_Epoch:\n",
    "    # Update Weights\n",
    "    i = numpy.random.randint(0, Raw_Data_Shape[0])\n",
    "    W_new = update_weights(eta, sigma, X_Norm[i], W_new, Index)\n",
    "    # Print\n",
    "#     print('Epoch: ', Epoch, ' Learning Rate: ', eta, ' Varinance: ', sigma, '\\n')\n",
    "    # Next...\n",
    "    eta = decay_learning_rate(eta_0, Epoch, eta_time_const)\n",
    "    sigma = decay_variance(sigma_0, Epoch, sigma_time_const)\n",
    "    Epoch += 1\n",
    "print('Optimal Weights Reached!!!')"
   ]
  },
  {
   "cell_type": "markdown",
   "metadata": {},
   "source": [
    "#### Test\n",
    "Here we show all the inputs to the SOM network and see which neuron gets activated and place our input over there. There can be some overlaps between inputs hence we find places where there are no inputs place and we find which input is closest and place there. "
   ]
  },
  {
   "cell_type": "code",
   "execution_count": 14,
   "metadata": {},
   "outputs": [],
   "source": [
    "# Test\n",
    "W_final = deepcopy(W_new)\n",
    "Colour = numpy.zeros((SOM_Network_Shape[0]*SOM_Network_Shape[1], 3))\n",
    "for i in range(0, Raw_Data_Shape[0]):\n",
    "    bmu = winning_neuron(X_Norm[i], W_final)\n",
    "    Colour[bmu] = X_Norm[i]\n",
    "\n",
    "Zero_Pos = numpy.where(~Colour.any(axis=1))[0] # numpy.where(Colour[:, 0] == 0)[0] \n",
    "for i in range(0, Zero_Pos.size):\n",
    "    temp = numpy.array([])\n",
    "    for j in range(0, Raw_Data_Shape[0]):\n",
    "        a = numpy.linalg.norm(X_Norm[j] - W_final[Zero_Pos[i]])\n",
    "        temp = numpy.concatenate((temp, [a]), axis=0)\n",
    "    bmu = numpy.argmin(temp)\n",
    "    Colour[Zero_Pos[i]] = X_Norm[bmu]"
   ]
  },
  {
   "cell_type": "code",
   "execution_count": 15,
   "metadata": {},
   "outputs": [
    {
     "data": {
      "image/png": "[encoded data removed]",
      "text/plain": [
       "<Figure size 432x288 with 1 Axes>"
      ]
     },
     "metadata": {
      "needs_background": "light"
     },
     "output_type": "display_data"
    }
   ],
   "source": [
    "# Plot\n",
    "fig = plt.figure()\n",
    "# setup axes\n",
    "ax = fig.add_subplot(111, aspect='equal')\n",
    "ax.set_xlim((0, SOM_Network_Shape[0]))\n",
    "ax.set_ylim((0, SOM_Network_Shape[1]))\n",
    "ax.set_title('Self-Organising Map after %d iterations' % Max_Epoch)\n",
    "\n",
    "# plot the rectangles\n",
    "i = 0\n",
    "for x in range(0, SOM_Network_Shape[0]):\n",
    "    for y in range(0, SOM_Network_Shape[1]):\n",
    "        ax.add_patch(patches.Rectangle((x, y), 1, 1, facecolor=Colour[i], edgecolor='none'))\n",
    "        i += 1\n",
    "plt.savefig('Self-Organising Map.pdf')\n",
    "plt.show()"
   ]
  }
 ],
 "metadata": {
  "kernelspec": {
   "display_name": "Python 3",
   "language": "python",
   "name": "python3"
  },
  "language_info": {
   "codemirror_mode": {
    "name": "ipython",
    "version": 3
   },
   "file_extension": ".py",
   "mimetype": "text/x-python",
   "name": "python",
   "nbconvert_exporter": "python",
   "pygments_lexer": "ipython3",
   "version": "3.7.0"
  }
 },
 "nbformat": 4,
 "nbformat_minor": 2
}
